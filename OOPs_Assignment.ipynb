{
  "nbformat": 4,
  "nbformat_minor": 0,
  "metadata": {
    "colab": {
      "private_outputs": true,
      "provenance": []
    },
    "kernelspec": {
      "name": "python3",
      "display_name": "Python 3"
    },
    "language_info": {
      "name": "python"
    }
  },
  "cells": [
    {
      "cell_type": "code",
      "execution_count": null,
      "metadata": {
        "id": "4R-DyrWGRTU5"
      },
      "outputs": [],
      "source": [
        "#Q1.What is Object-Oriented Programming (OOP)?\n",
        "'''Ans:\n",
        "Object-Oriented Programming (OOP) is a programming  that is based on the concept of \"objects\". These objects contain both data (attributes) and functions (methods) that can operate on that data.\n",
        "\n",
        "the key concepts in OOP:\n",
        "1.Objects: These are the fundamental building blocks of OOP. They represent real-world entities or concepts, like a car, a person, or a bank account. Objects have properties (attributes) and behaviors (methods).\n",
        "2.Classes: A class is a blueprint or template for creating objects. It defines the attributes and methods that objects of that class will have. For example, a \"Car\" class might have attributes like \"make\", \"model\", and \"color\", and methods like \"start\", \"stop\", and \"accelerate\".\n",
        "3.Attributes: These are the data or characteristics that describe an object. In our \"Car\" example, attributes would be things like \"make\", \"model\", and \"color\".\n",
        "4.Methods: These are the actions or functions that an object can perform. In our \"Car\" example, methods would be things like \"start\", \"stop\", and \"accelerate\".\n",
        "5.Inheritance: This is a mechanism that allows you to create new classes (child classes) based on existing classes (parent classes). The child class inherits the attributes and methods of the parent class, and can also add its own unique attributes and methods. This promotes code reuse and reduces redundancy.\n",
        "6.Polymorphism: This refers to the ability of objects of different classes to respond to the same method call in different ways. For example, both a \"Car\" and a \"Bicycle\" might have a \"move\" method, but the way they implement this method would be different.\n",
        "7.Encapsulation: This is the practice of hiding the internal details of an object from the outside world. This helps to protect the object's data and prevent it from being accidentally modified. It also makes it easier to maintain and update the code.\n",
        "\n",
        "Benefits of OOP:\n",
        "Modularity: Code is organized into reusable objects, making it easier to understand, modify, and maintain.\n",
        "Flexibility: Objects can be easily extended and modified without affecting other parts of the code.\n",
        "Reusability: Objects can be reused in different parts of the program or in other programs, saving time and effort.\n",
        "Data security: Encapsulation helps to protect data from unauthorized access.'''"
      ]
    },
    {
      "cell_type": "code",
      "source": [
        "#Q2.What is a class in OOP?\n",
        "\"\"\"Ans:In OOP, a class is a blueprint or template for creating objects. It defines the attributes and methods that objects of that class will have. For example, a \"Car\" class might have attributes like \"make\", \"model\", and \"color\".\n",
        "class Car:\n",
        "  def __init__(self,make,model,color):\n",
        "    self.make = make\n",
        "    self.model = model\n",
        "    self.color = color\n",
        "  def start(self):\n",
        "    print(\"The car has started\")\n",
        "  def stop(self):\n",
        "    print(\"The car has stopped\")\n",
        "c1 = Car(\"Toyota\",\"Camry\",\"Red\")\n",
        "c1.start()\n",
        "c1.stop()\"\"\""
      ],
      "metadata": {
        "id": "1TtDWEAotq3o"
      },
      "execution_count": null,
      "outputs": []
    },
    {
      "cell_type": "code",
      "source": [
        "#Q3.What is an object in OOP?\n",
        "\"\"\"Ans:In oops object is instance of class that contain data(attributes) and behaviors(methods). It is an instance of a class, which acts as a blueprint for creating objects.\n",
        "class Car:\n",
        "  def __init__(self,make,model,color):\n",
        "    self.make = make\n",
        "    self.model = model\n",
        "    self.color = color\n",
        "  def start(self):\n",
        "    print(\"The car has started\")\n",
        "  def stop(self):\n",
        "    print(\"The car has stopped\")\n",
        "c1 = Car(\"Toyota\",\"Camry\",\"Red\")\n",
        "c1.start()\n",
        "c1.stop()\n",
        "In this program make,model,color are attributes.c1 is object\"\"\""
      ],
      "metadata": {
        "id": "P-Dcp2CcwVH5"
      },
      "execution_count": null,
      "outputs": []
    },
    {
      "cell_type": "code",
      "source": [
        "#Q4.What is the difference between abstraction and encapsulation?\n",
        "\"\"\"Ans:Abstraction: Abstraction is a process hidding the internal details of an object from the outside world.\n",
        "\n",
        "from abc import ABC, abstractmethod\n",
        "class Animal(ABC):\n",
        "  @abstractmethod\n",
        "  def make_sound(self):\n",
        "    pass\n",
        "class Dog(Animal):\n",
        "  def make_sound(self):\n",
        "    print(\"the dogs barks\")\n",
        "class Cat(Animal):\n",
        "  def make_sound(self):\n",
        "    print(\"the cat meows\")\n",
        "animal = Animal() # when we create object of abstract class we get error\n",
        "animal.make_sound()\n",
        "Encapsulation: Encapsulation is the technique of bundling data (variables) and methods (functions) together within a class and restricting direct access to some details to protect data integrity.\n",
        "\n",
        "class Bankaccount:\n",
        "  def __init__(self,account_number,balance):\n",
        "    self.account_number = account_number\n",
        "    self.__balance = balance\n",
        "  def deposit(self,amount):\n",
        "    self.__balance += amount\n",
        "  def withdraw(self,amount):\n",
        "    if amount <= self.__balance:\n",
        "      self.__balance -= amount\n",
        "  def get_balance(self):\n",
        "    return self.__balance\n",
        "account = Bankaccount(\"123456789\",1000)\n",
        "account.account_number #show me account no because it is a public\n",
        "#account.__balance #show me error because it is private\n",
        "account.deposit(500)\n",
        "account.get_balance()\n",
        "account.withdraw(200)\n",
        "account.get_balance()\"\"\"\n"
      ],
      "metadata": {
        "id": "-WVidUMsy-gk"
      },
      "execution_count": null,
      "outputs": []
    },
    {
      "cell_type": "code",
      "source": [
        "#Q5.What are dunder methods in Python?\n",
        "\"\"\"Ans: Dunder methods are also called Magic Method. Dunder methods start __(double underscore)and after their names.\n",
        "\n",
        "class Point:\n",
        "  def __init__(self,x,y):\n",
        "    self.x = x\n",
        "    self.y = y\n",
        "  def __str__(self):\n",
        "    return f\"point({self.x},{self.y})\"\n",
        "  def __add__(self,other):\n",
        "    return Point(self.x + other.x,self.y + other.y)\n",
        "p1 = Point(1,2)\n",
        "p2 = Point(3,4)\n",
        "print(p1+p2)\n",
        "Example:__init__ ,__str__,__add__,__sub__,__mul__,__div__\"\"\"\n"
      ],
      "metadata": {
        "id": "3clY9O9x_dDh"
      },
      "execution_count": null,
      "outputs": []
    },
    {
      "cell_type": "code",
      "source": [
        "#Q6.Explain the concept of inheritance in OOP?\n",
        "\"\"\"Ans:Inheritance in OOPs: Inheritance is basic funamental of OOPs which have a parent class and child class.Child class inherit parent class means child class can access of method of parent class.\n",
        "\"\"\""
      ],
      "metadata": {
        "id": "NAitllpPzcPW"
      },
      "execution_count": null,
      "outputs": []
    },
    {
      "cell_type": "code",
      "source": [
        "#Q7.What is polymorphism in OOP?\n",
        "\"\"\"Ans:Polymorphism means many forms is a powerful feature in OOPs that allows objects of different classes to respond to same method call in different ways.\n",
        "class Animal:\n",
        "  def speak(self):\n",
        "    print(\"Generic animal sound\")\n",
        "class Dog(Animal):\n",
        "  def speak(self):\n",
        "    print(\"dogs are barks\")\n",
        "class Cat(Animal):\n",
        "  def speak(self):\n",
        "    print(\"Cats are meows\")\n",
        "my_dog = Animal()\n",
        "my_dog.speak()\"\"\""
      ],
      "metadata": {
        "id": "nEg4mWjztEf5"
      },
      "execution_count": null,
      "outputs": []
    },
    {
      "cell_type": "code",
      "source": [
        "#Q8.How is encapsulation achieved in Python?\n",
        "\"\"\"Ans:Encapsulation: Encapsulation is the technique of bundling data (variables) and methods (functions) together within a class and restricting direct access to some details to protect data integrity.\n",
        "\n",
        "class Bankaccount:\n",
        "  def __init__(self,account_number,balance):\n",
        "    self.account_number = account_number\n",
        "    self.__balance = balance\n",
        "  def deposit(self,amount):\n",
        "    self.__balance += amount\n",
        "  def withdraw(self,amount):\n",
        "    if amount <= self.__balance:\n",
        "      self.__balance -= amount\n",
        "  def get_balance(self):\n",
        "    return self.__balance\n",
        "account = Bankaccount(\"123456789\",1000)\n",
        "account.account_number #show me account no because it is a public\n",
        "#account.__balance #show me error because it is private\n",
        "account.deposit(500)\n",
        "account.get_balance()\n",
        "account.withdraw(200)\n",
        "account.get_balance()\"\"\""
      ],
      "metadata": {
        "id": "Zjt4Xi7xxm7h"
      },
      "execution_count": null,
      "outputs": []
    },
    {
      "cell_type": "code",
      "source": [
        "#Q9.What is a constructor in Python?\n",
        "\"\"\"Ans:Constructor is a special method in a class that is automatically called when an object of that class is created.\n",
        "class Car:\n",
        "  def __init__(self,make,model,color):\n",
        "    self.make = make\n",
        "    self.model = model\n",
        "    self.color = color\n",
        "  def start(self):\n",
        "    print(\"the car has started\")\n",
        "  def stop(self):\n",
        "    print(\"the car has stopped\")\n",
        "my_car = Car(\"Toyota\",\"Camry\",\"Red\")\n",
        "my_car.color\"\"\""
      ],
      "metadata": {
        "id": "D8JoE-vcyHqB"
      },
      "execution_count": null,
      "outputs": []
    },
    {
      "cell_type": "code",
      "source": [
        "#Q10.What are class and static methods in Python?\n",
        "\"\"\"Ans:Class method: A class method is a method that is bound to the class and not the instance of class.Its receives the class itself as the first argument name as cls.\n",
        "class MyClass:\n",
        "    class_variable = 0\n",
        "\n",
        "    def __init__(self, value):\n",
        "        self.instance_variable = value\n",
        "        MyClass.class_variable += 1\n",
        "\n",
        "    @classmethod\n",
        "    def get_class_variable(cls):\n",
        "        return cls.class_variable\n",
        "\n",
        "# Accessing class method\n",
        "print(MyClass.get_class_variable())  # Output: 0\n",
        "\n",
        "# Creating objects\n",
        "obj1 = MyClass(10)\n",
        "obj2 = MyClass(20)\n",
        "print(MyClass.get_class_variable())  # Output: 2\n",
        "\n",
        "Static method: A static method is a method that is bound to the class and not the instance of class.Its doesn't receive any argument.\n",
        "class Myclass:\n",
        "  @staticmethod\n",
        "  def is_valid(value):\n",
        "    return 0 <= value <= 100\n",
        "print(Myclass.is_valid(50)) #true\n",
        "print(Myclass.is_valid(150)) #false\"\"\""
      ],
      "metadata": {
        "id": "zfoXckYV03a5"
      },
      "execution_count": null,
      "outputs": []
    },
    {
      "cell_type": "code",
      "source": [
        "#Q11.What is method overloading in Python?\n",
        "\"\"\"Ans:Method Overloading:Method Overloading is a feature where you can define multiple methods with the same name but different parameters within the same class.\n",
        "But python does not support traditional method overloading.\n",
        "def greet(name, greeting=\"Hello\"):\n",
        "    print(f\"{greeting}, {name}!\")\n",
        "\n",
        "greet(\"Alice\")  # Output: Hello, Alice!\n",
        "greet(\"Bob\", \"Hi\")  # Output: Hi, Bob!\"\"\""
      ],
      "metadata": {
        "id": "IeAHX7wnEZ8h"
      },
      "execution_count": null,
      "outputs": []
    },
    {
      "cell_type": "code",
      "source": [
        "#Q12.What is method overriding in OOP?\n",
        "\"\"\"Ans:Overriding in OOPs:Overriding is a special feature that child class implement a method which is already exists in parent class  that is called method overriding.\n",
        "class Animal:\n",
        "  def speak(self):\n",
        "    print(\"animal general sound\")\n",
        "class Dog:\n",
        "  def speak(self):\n",
        "    print(\"dogs barks\")\n",
        "class Cat:\n",
        "  def speak(self):\n",
        "    print(\"cats meows\")\n",
        "animal = Dog()\n",
        "animal.speak()\"\"\""
      ],
      "metadata": {
        "id": "c1EmvBAoGVtf"
      },
      "execution_count": null,
      "outputs": []
    },
    {
      "cell_type": "code",
      "source": [
        "#Q13.What is a property decorator in Python?\n",
        "\"\"\"Ans:A property decorator in Python (@property) is used to define a method as a getter, allowing you to access it like an attribute while keeping the benefits of encapsulation. It helps control access to instance variables while avoiding direct modification.\n",
        "\n",
        "How @property Works\n",
        "@property – Defines a getter method for an attribute.\n",
        "@<property_name>.setter – Defines a setter method to modify the attribute.\n",
        "@<property_name>.deleter – Defines a deleter method to remove the attribute.\n",
        "class Person:\n",
        "    def __init__(self, name):\n",
        "        self._name = name  # Private variable convention\n",
        "\n",
        "    @property\n",
        "    def name(self):\n",
        "        \"\"\"Getter method for name\"\"\"\n",
        "        return self._name\n",
        "\n",
        "    @name.setter\n",
        "    def name(self, new_name):\n",
        "        \"\"\"Setter method for name\"\"\"\n",
        "        if not new_name:\n",
        "            raise ValueError(\"Name cannot be empty\")\n",
        "        self._name = new_name\n",
        "\n",
        "    @name.deleter\n",
        "    def name(self):\n",
        "        \"\"\"Deleter method for name\"\"\"\n",
        "        print(\"Deleting name...\")\n",
        "        del self._name\n",
        "\n",
        "# Usage\n",
        "p = Person(\"Alice\")\n",
        "print(p.name)  # Calls the getter\n",
        "\n",
        "p.name = \"Bob\"  # Calls the setter\n",
        "print(p.name)\n",
        "\n",
        "del p.name  # Calls the deleter\n",
        "\"\"\""
      ],
      "metadata": {
        "id": "G-mFFSHTVgMU"
      },
      "execution_count": null,
      "outputs": []
    },
    {
      "cell_type": "code",
      "source": [
        "#Q14.Why is polymorphism important in OOP?\n",
        "\"\"\"Ans:Polymorphism is important in OOPs because it allows objects of different classes to respond to same method call in different ways.\n",
        "Polymorphism is a key concept in Object-Oriented Programming (OOP) that allows objects of different classes to be treated as objects of a common base class. This enhances code flexibility, reusability, and maintainability.\"\"\""
      ],
      "metadata": {
        "id": "SlNyPyQnV0VL"
      },
      "execution_count": null,
      "outputs": []
    },
    {
      "cell_type": "code",
      "source": [
        "#Q15.What is an abstract class in Python?\n",
        "\"\"\"Ans:Abstrat class is a class that cannot instantiatedon its own and it is inherited by other class.\n",
        "Key Features:\n",
        "1.Defined using the ABC (Abstract Base Class) module from abc.\n",
        "2.Contains abstract methods, which are methods declared but not implemented.\n",
        "3.Subclasses must implement all abstract methods before they can be instantiated.\n",
        "from abc import ABC, abstractmethod\n",
        "class Animal(ABC):\n",
        "  @abstractmethod\n",
        "  def make_sound(self):\n",
        "    pass\n",
        "class Dog(Animal):\n",
        "  def make_sound(self):\n",
        "    print(\"the dog barks\")\n",
        "class Cat(Animal):\n",
        "  def make_sound(self):\n",
        "    print(\"the cat meows\")\n",
        "anm = Dog()\n",
        "anm.make_sound()\"\"\""
      ],
      "metadata": {
        "id": "176qat_sWT99"
      },
      "execution_count": null,
      "outputs": []
    },
    {
      "cell_type": "code",
      "source": [
        "#Q16.What are the advantages of OOPs?\n",
        "\"\"\"Ans:Advantages of OOPs:\n",
        "1.Encapsulation\n",
        "2.Abstraction\n",
        "3.Resuability\n",
        "4.Polymorphism\n",
        "5.Inheritance\n",
        "6.Modularity\n",
        "7.Security\n",
        "8.Real world modelling\"\"\""
      ],
      "metadata": {
        "id": "-H-s_nO2Dsx9"
      },
      "execution_count": null,
      "outputs": []
    },
    {
      "cell_type": "code",
      "source": [
        "#Q17.What is the difference between a class variable and an instance variable?\n",
        "\"\"\"Ans:Class variable:Class variable are declared withn the class but outside any methods.They are shared by all instances of the class.\n",
        "class Car:\n",
        "  no_of_wheels = 4 #class variable\n",
        "  def __init__(self,make,model,color):\n",
        "    self.make = make #Instance variable\n",
        "    self.model = model #Instance variable\n",
        "    self.color = color #Instance variable\n",
        "print(Car.no_of_wheels)\n",
        "my_car = Car(\"Toyota\",\"Camry\",\"Red\")\n",
        "print(my_car.no_of_wheels)\n",
        "\n",
        "Instance Variable:\n",
        "Instance variables are declared within the constructor (__init__) method and are specific to each instance of the class.\"\"\""
      ],
      "metadata": {
        "id": "2f_bQWBqFExd"
      },
      "execution_count": null,
      "outputs": []
    },
    {
      "cell_type": "code",
      "source": [
        "#18.What is multiple inheritance in Python?\n",
        "\"\"\"Ans:In Python multiple inheritance,a class can inherit from mutiple parent class this is called multiple inheritance.\n",
        "\n",
        "class Parent1:\n",
        "  def method1(self):\n",
        "    print(\"This is method first\")\n",
        "\n",
        "class Parent2:\n",
        "      def method2(self):\n",
        "        print(\"this is second method\")\n",
        "class Child(Parent1,Parent2):\n",
        "  def method3(self):\n",
        "    print(\"this is third method\")\n",
        "ch = Child()\n",
        "ch.method1() \"\"\""
      ],
      "metadata": {
        "id": "GF6ZQSqcHsH7"
      },
      "execution_count": null,
      "outputs": []
    },
    {
      "cell_type": "code",
      "source": [
        "#Q19.Explain the purpose of ‘’__str__’ and ‘__repr__’ ‘ methods in Python?\n",
        "\"\"\"Ans:__str__ Method\n",
        "\n",
        "Purpose: To provide an informal, human-readable string representation of an object.\n",
        "class Person:\n",
        "  def __init__(self,name,age):\n",
        "    self.name = name\n",
        "    self.age = age\n",
        "  def __str__(self):\n",
        "      return f\"{self.name} is {self.age} years old\"\n",
        "p1 = Person(\"shubham\",27)\n",
        "print(p1)\n",
        "\n",
        "__repr__ Method:\n",
        "The __repr__ method is meant to return an unambiguous, developer-friendly representation of an object.\n",
        "\n",
        "class Person:\n",
        "  def __init__(self,name,age):\n",
        "    self.name = name\n",
        "    self.age = age\n",
        "  def __repr__(self):\n",
        "    return f\"{self.name} is {self.age} years old\"\n",
        "p1 = Person(\"shubham\",27)\n",
        "print(p1)\"\"\""
      ],
      "metadata": {
        "id": "gTMKLRak2-Pa"
      },
      "execution_count": null,
      "outputs": []
    },
    {
      "cell_type": "code",
      "source": [
        "#Q20.The super() function in Python is used to call a method from a parent (or superclass) in a subclass?\n",
        "\"\"\"Ans:The super() function is a function to call a method from parent class or child class.\n",
        "class Parent:\n",
        "  def show(self):\n",
        "    print(\"this is a parent\")\n",
        "class Child(Parent):\n",
        "  def show(self):\n",
        "    super().show()\n",
        "    print(\"this is a child\")\n",
        "ch = Child()\n",
        "ch.show()\"\"\""
      ],
      "metadata": {
        "id": "pRkj7jrg5_dQ"
      },
      "execution_count": null,
      "outputs": []
    },
    {
      "cell_type": "code",
      "source": [
        "#Q21.What is the significance of the __del__ method in Python?\n",
        "\"\"\"Ans:The __del__ method is a special destructor method in Python that is called when an object is about to be destroyed (i.e., when it is garbage collected).It allows you to define cleanup operations like closing files, releasing resources, or logging before the object is removed from memory.\n",
        "class Example:\n",
        "  def __init__(self,name):\n",
        "    self.name = name\n",
        "  def __del__(self):\n",
        "    print(f\"{self.name} is being destroyed\")\n",
        "obj = Example(\"shubham\")\n",
        "del obj\"\"\""
      ],
      "metadata": {
        "id": "v_kcrgBTUK7D"
      },
      "execution_count": null,
      "outputs": []
    },
    {
      "cell_type": "code",
      "source": [
        "#Q22.What is the difference between @staticmethod and @classmethod in Python?\n",
        "\"\"\"Ans:Static method:\n",
        "1.Static method does not receive any reference to instance self or cls\n",
        "2.It cannot modify class or instance attributes.\n",
        "3.Uses:Method does not depend on class instance.\n",
        "class Math:\n",
        "  @staticmethod\n",
        "  def add(a,b):\n",
        "    return a+b\n",
        "add = Math()\n",
        "add.add(5,2)\n",
        "Class method:\n",
        "1. A class method receives a reference to the class (cls) as its first parameter.\n",
        "2.It can modify class-level attributes but not instance attributes directly.\n",
        "class Human:\n",
        "  species = \"human\"\n",
        "  @classmethod\n",
        "  def change_species(cls,new_species):\n",
        "    cls.species = new_species\n",
        "human = Human()\n",
        "human.change_species(\"dog\")\n",
        "print(Human.species)\"\"\""
      ],
      "metadata": {
        "id": "SjS4-wtpaRh2"
      },
      "execution_count": null,
      "outputs": []
    },
    {
      "cell_type": "code",
      "source": [
        "#23.How does polymorphism work in Python with inheritance?\n",
        "\"\"\"Ans:Polymorphism, meaning \"many forms,\" allows objects of different classes to respond to the same method call in their own way. When using inheritance, a subclass can override a method of its parent class, providing a specific implementation for that method.\n",
        "class Animal:\n",
        "    def speak(self):\n",
        "        print(\"Generic animal sound\")\n",
        "\n",
        "class Dog(Animal):\n",
        "    def speak(self):\n",
        "        print(\"Woof!\")\n",
        "\n",
        "class Cat(Animal):\n",
        "    def speak(self):\n",
        "        print(\"Meow!\")\n",
        "\n",
        "\n",
        "animal = Animal()\n",
        "dog = Dog()\n",
        "cat = Cat()\n",
        "\n",
        "animal.speak()\n",
        "dog.speak()\n",
        "cat.speak()\"\"\""
      ],
      "metadata": {
        "id": "K96vH4aPhXna"
      },
      "execution_count": null,
      "outputs": []
    },
    {
      "cell_type": "code",
      "source": [
        "#Q24.What is method chaining in Python OOP?\n",
        "\"\"\"Ans:Method chaining is a technique in Object-Oriented Programming (OOP) where multiple methods are called on the same object in a single statement, improving readability and conciseness.\n",
        "class Person:\n",
        "  def __init__(self,name):\n",
        "    self.name = name\n",
        "\n",
        "  def set_age(self,age):\n",
        "    self.age = age\n",
        "    return self\n",
        "  def set_city(self,city):\n",
        "    self.city = city\n",
        "    return self\n",
        "  def display(self):\n",
        "    print(f\"Name:{self.name},Age:{self.age},City:{self.city}\")\n",
        "    return self\n",
        "person = Person(\"shubham\")\n",
        "person.set_age(27).set_city(\"jaipur\").display()\"\"\""
      ],
      "metadata": {
        "id": "dh_YZXoLiad6"
      },
      "execution_count": null,
      "outputs": []
    },
    {
      "cell_type": "code",
      "source": [
        "#Q25.What is the purpose of the __call__ method in Python?\n",
        "\"\"\"Ans:The __call__ method in Python allows an instance of a class to be called like a function. This makes objects behave like functions, enabling flexible and reusable code.\n",
        "class Greeting:\n",
        "  def __call__(self,name):\n",
        "    return f\"Hello,{name}\"\n",
        "greet = Greeting()\n",
        "print(greet(\"shubham\"))\"\"\""
      ],
      "metadata": {
        "id": "F7qXc20ByfJg"
      },
      "execution_count": null,
      "outputs": []
    },
    {
      "cell_type": "markdown",
      "source": [
        "Practical Question"
      ],
      "metadata": {
        "id": "5EPd-z880FdQ"
      }
    },
    {
      "cell_type": "code",
      "source": [
        "\"\"\"Q1. Create a parent class Animal with a method speak() that prints a generic message. Create a child class Dog\n",
        "that overrides the speak() method to print \"Bark!\".\"\"\"\n",
        "#Ans:\n",
        "class Animal:\n",
        "  def speak(self):\n",
        "    print(\"Generic animal sound\")\n",
        "class Dog(Animal):\n",
        "  def speak(self):\n",
        "    print(\"Bark!\")\n",
        "animal = Dog()\n",
        "animal.speak()"
      ],
      "metadata": {
        "id": "kBC27hVz0S8l"
      },
      "execution_count": null,
      "outputs": []
    },
    {
      "cell_type": "code",
      "source": [
        "\"\"\"Q2.Write a program to create an abstract class Shape with a method area(). Derive classes Circle and Rectangle\n",
        "from it and implement the area() method in both.\"\"\"\n",
        "#Ans:\n",
        "from abc import ABC,abstractmethod\n",
        "import math\n",
        "\n",
        "class Shape(ABC):\n",
        "  @abstractmethod\n",
        "  def area(self):\n",
        "    pass\n",
        "class Circle(Shape):\n",
        "  def __init__(self,radius):\n",
        "    self.radius = radius\n",
        "  def area(self):\n",
        "    return math.pi*self.radius**2\n",
        "class Rectangle(Shape):\n",
        "  def __init__(self,length,width):\n",
        "    self.length = length\n",
        "    self.width = width\n",
        "  def area(self):\n",
        "    return self.length * self.width\n",
        "circle = Circle(8)\n",
        "rec = Rectangle(5,2)\n",
        "print(rec.area())\n",
        "print(circle.area())"
      ],
      "metadata": {
        "id": "3F7bj_EZ1jM3"
      },
      "execution_count": null,
      "outputs": []
    },
    {
      "cell_type": "code",
      "source": [
        "\"\"\"Q3. Implement a multi-level inheritance scenario where a class Vehicle has an attribute type. Derive a class Car\n",
        "and further derive a class ElectricCar that adds a battery attribute\"\"\"\n",
        "#Ans:\n",
        "class Vehicle:\n",
        "  def __init__(self,type):\n",
        "    self.type = type\n",
        "\n",
        "class Car(Vehicle):\n",
        "  def __init__(self,type,model):\n",
        "    super().__init__(type)\n",
        "    self.model = model\n",
        "\n",
        "class ElectricCar(Car):\n",
        "  def __init__(self,type,model,battery):\n",
        "    super().__init__(type,model)\n",
        "\n",
        "    self.battery = battery\n",
        "my_electric_car = ElectricCar(\"Tesla Elctric\",\"Tesla S\",\"1000KWH\")\n",
        "print(my_electric_car.type)\n",
        "print(my_electric_car.model)\n",
        "print(my_electric_car.battery)"
      ],
      "metadata": {
        "id": "GensmIrS9cz5"
      },
      "execution_count": null,
      "outputs": []
    },
    {
      "cell_type": "code",
      "source": [
        "\"\"\"Q4. Demonstrate polymorphism by creating a base class Bird with a method fly(). Create two derived classes\n",
        "Sparrow and Penguin that override the fly() method.\"\"\"\n",
        "#Ans:\n",
        "class Bird:\n",
        "  def fly(self):\n",
        "    print(\"Birds can fly\")\n",
        "class Sparrow(Bird):\n",
        "  def fly(self):\n",
        "    print(\"Sparrows can fly\")\n",
        "class Penguine(Bird):\n",
        "  def fly(self):\n",
        "    print(\"penguin can not fly\")\n",
        "bird = Penguine()\n",
        "birds = Bird()\n",
        "birds.fly()"
      ],
      "metadata": {
        "id": "stMlD08xKroC"
      },
      "execution_count": null,
      "outputs": []
    },
    {
      "cell_type": "code",
      "source": [
        "\"\"\"Q5.Write a program to demonstrate encapsulation by creating a class BankAccount with private attributes\n",
        "balance and methods to deposit, withdraw, and check balance.\"\"\"\n",
        "#Ans:\n",
        "class BankAccount:\n",
        "  def __init__(self,balance):\n",
        "    self.__balance = balance\n",
        "  def deposit(self,amount):\n",
        "    self.__balance = self.__balance + amount\n",
        "  def withdraw(self,amount):\n",
        "    if amount <= self.__balance:\n",
        "      self.__balance = self.__balance - amount\n",
        "  def get_balance(self):\n",
        "    return self.__balance\n",
        "account = BankAccount(1000)\n",
        "account.deposit(500)\n",
        "account.get_balance()\n",
        "account.withdraw(100)\n",
        "account.get_balance()"
      ],
      "metadata": {
        "id": "H0-LfU0HTSZ2"
      },
      "execution_count": null,
      "outputs": []
    },
    {
      "cell_type": "code",
      "source": [
        "\"\"\"Q6. Demonstrate runtime polymorphism using a method play() in a base class Instrument. Derive classes Guitar\n",
        "and Piano that implement their own version of play().\"\"\"\n",
        "#Ans:\n",
        "class Instrument:\n",
        "  def play(self):\n",
        "    print(\"Instrument is playing\")\n",
        "class Guitar(Instrument):\n",
        "  def play(self):\n",
        "    print(\"Guitar is playing\")\n",
        "class Piano(Instrument):\n",
        "  def play(self):\n",
        "    print(\"Piano is playing\")\n",
        "inst = Instrument()\n",
        "guitar = Guitar()\n",
        "piano = Piano()\n",
        "inst.play()\n",
        "guitar.play()\n",
        "piano.play()"
      ],
      "metadata": {
        "id": "Gsh7V6j1ZE4o"
      },
      "execution_count": null,
      "outputs": []
    },
    {
      "cell_type": "code",
      "source": [
        "\"\"\"Q7.Create a class MathOperations with a class method add_numbers() to add two numbers and a static\n",
        "method subtract_numbers() to subtract two numbers.\"\"\"\n",
        "#Ans:\n",
        "class MathOperations:\n",
        "  @classmethod\n",
        "  def add_numbers(cls,a,b):\n",
        "    return a+b\n",
        "  @staticmethod\n",
        "  def subtract_numbers(a,b):\n",
        "    return a-b\n",
        "math = MathOperations()\n",
        "math.add_numbers(5,2)\n",
        "math.subtract_numbers(5,2)"
      ],
      "metadata": {
        "id": "i8Ag5lDYa9En"
      },
      "execution_count": null,
      "outputs": []
    },
    {
      "cell_type": "code",
      "source": [
        "\"\"\"Q8. Implement a class Person with a class method to count the total number of persons created?\"\"\"\n",
        "#Ans:\n",
        "class Person:\n",
        "  count = 0\n",
        "  def __init__(self,name):\n",
        "    self.name = name\n",
        "    Person.count += 1\n",
        "  @classmethod\n",
        "  def get_count(cls):\n",
        "    return cls.count\n",
        "person1 = Person(\"shubham\")\n",
        "person2 = Person(\"shubham\")\n",
        "person3 = Person(\"shubham\")\n",
        "print(Person.get_count())"
      ],
      "metadata": {
        "id": "Yrf9kbzWcbwZ"
      },
      "execution_count": null,
      "outputs": []
    },
    {
      "cell_type": "code",
      "source": [
        "\"\"\"Q9. Write a class Fraction with attributes numerator and denominator. Override the str method to display the\n",
        "fraction as \"numerator/denominator\".\"\"\"\n",
        "#Ans:\n",
        "class Fraction:\n",
        "  def __init__(self,numerator,denominator):\n",
        "    if denominator == 0:\n",
        "       raise ValueError (\"Denominator can not be zero\")\n",
        "    self.numerator = numerator\n",
        "    self.denominator = denominator\n",
        "  def __str__(self):\n",
        "     return f\"{self.numerator/self.denominator}\"\n",
        "fract1 = Fraction(5,2)\n",
        "fract2 = Fraction(10,2)\n",
        "print(fract1)\n",
        "print(fract2)"
      ],
      "metadata": {
        "id": "Zw3zwR4_zy6x"
      },
      "execution_count": null,
      "outputs": []
    },
    {
      "cell_type": "code",
      "source": [
        "\"\"\"Q10. Demonstrate operator overloading by creating a class Vector and overriding the add method to add two\n",
        "vectors.\"\"\"\n",
        "#Ans:\n",
        "class Vector:\n",
        "    def __init__(self, x, y):\n",
        "        self.x = x\n",
        "        self.y = y\n",
        "\n",
        "    def __add__(self, other):\n",
        "        if not isinstance(other, Vector):\n",
        "            raise TypeError(\"Only vectors can be added.\")\n",
        "        return Vector(self.x + other.x, self.y + other.y)\n",
        "\n",
        "    def __str__(self):\n",
        "        return f\"({self.x}, {self.y})\"\n",
        "\n",
        "\n",
        "v1 = Vector(2, 3)\n",
        "v2 = Vector(4, 5)\n",
        "\n",
        "\n",
        "v3 = v1 + v2\n",
        "\n",
        "print(v1)\n",
        "print(v2)\n",
        "print(v3)\n",
        "\n"
      ],
      "metadata": {
        "id": "hF0SP5QG3luY"
      },
      "execution_count": null,
      "outputs": []
    },
    {
      "cell_type": "code",
      "source": [
        "\"\"\"Q11. Create a class Person with attributes name and age. Add a method greet() that prints \"Hello, my name is\n",
        "{name} and I am {age} years old.\"\"\"\n",
        "#Ans:\n",
        "class Person:\n",
        "  def __init__(self,name,age):\n",
        "    self.name = name\n",
        "    self.age = age\n",
        "  def greet(self):\n",
        "    return f\"Hello,my name is {self.name} and I am {self.age} years old\"\n",
        "\n",
        "per = Person(\"shubham\",27)\n",
        "per.greet()\n"
      ],
      "metadata": {
        "id": "9wRIbGMXXQun"
      },
      "execution_count": null,
      "outputs": []
    },
    {
      "cell_type": "code",
      "source": [
        "\"\"\"Q12.mplement a class Student with attributes name and grades. Create a method average_grade() to compute\n",
        "the average of the grades.\"\"\"\n",
        "#Ans:\n",
        "class Student:\n",
        "  def __init__(self,name,grades):\n",
        "    self.name = name\n",
        "    self.grades = grades\n",
        "  def average_grade(self):\n",
        "    if not self.grades:\n",
        "      return 0\n",
        "    return sum(self.grades)/len(self.grades)\n",
        "stud = Student(\"shubham\",[90,80,70])\n",
        "stud.average_grade()"
      ],
      "metadata": {
        "id": "oCiuv_o0ZI0e"
      },
      "execution_count": null,
      "outputs": []
    },
    {
      "cell_type": "code",
      "source": [
        "\"\"\"Q13.Create a class Rectangle with methods set_dimensions() to set the dimensions and area() to calculate the\n",
        "area?\"\"\"\n",
        "#Ans:\n",
        "class Rectangle:\n",
        "  def set_dimensions(self,length,width):\n",
        "    self.length = length\n",
        "    self.width = width\n",
        "  def area(self):\n",
        "    return self.length * self.width\n",
        "rect = Rectangle()\n",
        "rect.set_dimensions(5,2)\n",
        "rect.area()"
      ],
      "metadata": {
        "id": "kyiK_ZtyaqRv"
      },
      "execution_count": null,
      "outputs": []
    },
    {
      "cell_type": "code",
      "source": [
        "\"\"\"Q14.Create a class Employee with a method calculate_salary() that computes the salary based on hours worked\n",
        "and hourly rate. Create a derived class Manager that adds a bonus to the salary?\"\"\"\n",
        "#Ans:\n",
        "class Employee:\n",
        "    def __init__(self, name, hours_worked, hourly_rate):\n",
        "        self.name = name\n",
        "        self.hours_worked = hours_worked\n",
        "        self.hourly_rate = hourly_rate\n",
        "\n",
        "    def calculate_salary(self):\n",
        "        return self.hours_worked * self.hourly_rate\n",
        "\n",
        "    def display(self):\n",
        "        print(f\"Employee: {self.name}, Salary: ${self.calculate_salary():.2f}\")\n",
        "\n",
        "class Manager(Employee):\n",
        "    def __init__(self, name, hours_worked, hourly_rate, bonus):\n",
        "        super().__init__(name, hours_worked, hourly_rate)\n",
        "        self.bonus = bonus\n",
        "\n",
        "    def calculate_salary(self):\n",
        "        return super().calculate_salary() + self.bonus\n",
        "\n",
        "    def display(self):\n",
        "        print(f\"Manager: {self.name}, Salary with Bonus: ${self.calculate_salary():.2f}\")\n",
        "\n",
        "emp = Employee(\"Shubham\", 40, 20)\n",
        "mgr = Manager(\"Bob\", 40, 30, 500)\n",
        "\n",
        "\n",
        "emp.display()\n",
        "mgr.display()"
      ],
      "metadata": {
        "id": "A_wyH7Mnb2H3"
      },
      "execution_count": null,
      "outputs": []
    },
    {
      "cell_type": "code",
      "source": [
        "\"\"\"Q15.Create a class Product with attributes name, price, and quantity. Implement a method total_price() that\n",
        "calculates the total price of the product.\"\"\"\n",
        "#Ans:\n",
        "class Product:\n",
        "  def __init__(self,name,price,quantity):\n",
        "    self.name = name\n",
        "    self.price = price\n",
        "    self.quantity = quantity\n",
        "\n",
        "  def total_price(self):\n",
        "    return  self.price * self.quantity\n",
        "\n",
        "pro = Product(\"Laptop\",50,100)\n",
        "print(pro.total_price())"
      ],
      "metadata": {
        "id": "ZBFju6zsjJHv"
      },
      "execution_count": null,
      "outputs": []
    },
    {
      "cell_type": "code",
      "source": [
        "\"\"\"Q16. Create a class Animal with an abstract method sound(). Create two derived classes Cow and Sheep that\n",
        "implement the sound() method.\"\"\"\n",
        "#Ans:\n",
        "from abc import ABC, abstractmethod\n",
        "class Animal(ABC):\n",
        "  @abstractmethod\n",
        "  def sound(self):\n",
        "    pass\n",
        "\n",
        "class Cow(Animal):\n",
        "  def sound(self):\n",
        "    print(\"Cow's voice is nice\")\n",
        "class Sheep(Animal):\n",
        "  def sound(self):\n",
        "    print(\"sheep voice\")\n",
        "\n",
        "anm = Cow()\n",
        "anm.sound()"
      ],
      "metadata": {
        "id": "ByhWSGTBdEaZ"
      },
      "execution_count": null,
      "outputs": []
    },
    {
      "cell_type": "code",
      "source": [
        "\"\"\"Q17. Create a class Book with attributes title, author, and year_published. Add a method get_book_info() that\n",
        "returns a formatted string with the book's details.\"\"\"\n",
        "#Ans:\n",
        "class Book:\n",
        "  def __init__(self,title,author,year_published):\n",
        "    self.title = title\n",
        "    self.author = author\n",
        "    self.year_published = year_published\n",
        "\n",
        "  def get_book_info(self):\n",
        "    return f\"book details is {self.title},{self.author},{self.year_published}\"\n",
        "book = Book(\"SOM\",\"Bansal\",2021)\n",
        "print(book.get_book_info())"
      ],
      "metadata": {
        "id": "nwEg3bMpfQ_Q"
      },
      "execution_count": null,
      "outputs": []
    },
    {
      "cell_type": "code",
      "source": [
        "\"\"\"Q18.Create a class House with attributes address and price. Create a derived class Mansion that adds an\n",
        "attribute number_of_rooms.\"\"\"\n",
        "#Ans:\n",
        "class House:\n",
        "    def __init__(self, address, price):\n",
        "        self.address = address\n",
        "        self.price = price\n",
        "\n",
        "    def get_house_info(self):\n",
        "        return f\"Address: {self.address}, Price: ${self.price}\"\n",
        "\n",
        "class Mansion(House):\n",
        "    def __init__(self, address, price, number_of_rooms):\n",
        "        super().__init__(address, price)\n",
        "        self.number_of_rooms = number_of_rooms\n",
        "\n",
        "    def get_mansion_info(self):\n",
        "        return f\"{super().get_house_info()}, Number of Rooms: {self.number_of_rooms}\"\n",
        "\n",
        "\n",
        "house = House(\"123 Main St\", 250000)\n",
        "mansion = Mansion(\"456 Luxury Ave\", 5000000, 10)\n",
        "\n",
        "print(house.get_house_info())\n",
        "print(mansion.get_mansion_info())"
      ],
      "metadata": {
        "id": "xLdMKUGlhBPQ"
      },
      "execution_count": null,
      "outputs": []
    }
  ]
}